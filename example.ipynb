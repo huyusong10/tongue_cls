{
 "metadata": {
  "language_info": {
   "codemirror_mode": {
    "name": "ipython",
    "version": 3
   },
   "file_extension": ".py",
   "mimetype": "text/x-python",
   "name": "python",
   "nbconvert_exporter": "python",
   "pygments_lexer": "ipython3",
   "version": "3.6.5-final"
  },
  "orig_nbformat": 2,
  "kernelspec": {
   "name": "python36564bitpython3venve238cb695fa2440d96032de4cf926f5f",
   "display_name": "Python 3.6.5 64-bit ('python3': venv)"
  }
 },
 "nbformat": 4,
 "nbformat_minor": 2,
 "cells": [
  {
   "cell_type": "code",
   "execution_count": 1,
   "metadata": {},
   "outputs": [],
   "source": [
    "import torch\n",
    "import numpy as np\n",
    "import cv2\n",
    "from efficientnet_pytorch import EfficientNet\n",
    "import albumentations as A\n",
    "from albumentations.pytorch import ToTensorV2\n"
   ]
  },
  {
   "cell_type": "code",
   "execution_count": 2,
   "metadata": {},
   "outputs": [],
   "source": [
    "# params below must be the same as training's\n",
    "model_name = 'efficientnet-b0'\n",
    "num_classes = 24\n",
    "image_size = 512"
   ]
  },
  {
   "cell_type": "code",
   "execution_count": 3,
   "metadata": {},
   "outputs": [],
   "source": [
    "# load from training checkpoint\n",
    "ckpt = torch.load('/home/huys/tongue/tongue_efficientnet/outs/20200922:1629/model_epoch[9]_metric[0.6601].pth')\n",
    "model = EfficientNet.from_name(model_name, num_classes=24, image_size=image_size)\n",
    "model.load_state_dict(ckpt['network'], strict=False)\n",
    "model.eval()"
   ]
  },
  {
   "cell_type": "code",
   "execution_count": 6,
   "metadata": {},
   "outputs": [],
   "source": [
    "# load image\n",
    "img_path = '/home/huys/tongue/images/0a0bda6d-e85d-476d-b18c-44f9e0c0a37c.jpg'\n",
    "img = cv2.imread(img_path)\n",
    "img = cv2.cvtColor(img, cv2.COLOR_BGR2RGB)"
   ]
  },
  {
   "cell_type": "code",
   "execution_count": 7,
   "metadata": {},
   "outputs": [],
   "source": [
    "# transform to tensor\n",
    "input = A.Compose([\n",
    "        A.Resize(image_size, image_size),\n",
    "        A.Normalize(\n",
    "            mean=[0.485, 0.456, 0.406],\n",
    "            std=[0.229, 0.224, 0.225],),\n",
    "        ToTensorV2()\n",
    "    ])(image=img)['image'].unsqueeze(0)  # input tensor should be 4 dimensions\n"
   ]
  },
  {
   "cell_type": "code",
   "execution_count": 8,
   "metadata": {},
   "outputs": [
    {
     "output_type": "execute_result",
     "data": {
      "text/plain": "tensor([[0.1080, 0.1280, 0.5104, 0.5484, 0.2500, 0.0509, 0.2479, 0.7959, 0.1271,\n         0.8574, 0.7451, 0.7050, 0.6153, 0.7731, 0.2030, 0.0073, 0.0183, 0.9847,\n         0.6430, 0.4025, 0.1771, 0.8185, 0.7401, 0.0148]])"
     },
     "metadata": {},
     "execution_count": 8
    }
   ],
   "source": [
    "with torch.no_grad():\n",
    "    out = model(input)\n",
    "torch.sigmoid(out)"
   ]
  },
  {
   "cell_type": "code",
   "execution_count": null,
   "metadata": {},
   "outputs": [],
   "source": []
  }
 ]
}